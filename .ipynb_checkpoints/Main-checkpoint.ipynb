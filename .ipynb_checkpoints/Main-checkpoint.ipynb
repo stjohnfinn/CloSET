{
 "cells": [
  {
   "cell_type": "markdown",
   "id": "9db8e4ee",
   "metadata": {},
   "source": [
    "# COGS 181 Neural Networks & Deep Learning Final Project"
   ]
  },
  {
   "cell_type": "code",
   "execution_count": 18,
   "id": "28f40ac9",
   "metadata": {},
   "outputs": [],
   "source": [
    "import pandas as pd\n",
    "import numpy as np\n",
    "import matplotlib.pyplot as plt\n",
    "from sklearn.preprocessing import OneHotEncoder\n",
    "\n",
    "import torch\n",
    "import torch.nn as nn\n",
    "import torch.nn.functional as F\n",
    "import torch.optim as optim\n",
    "\n",
    "import torchvision.transforms as transforms\n",
    "import torchvision\n",
    "\n",
    "import os"
   ]
  },
  {
   "cell_type": "code",
   "execution_count": 19,
   "id": "625ddb12",
   "metadata": {},
   "outputs": [],
   "source": [
    "classifications = pd.read_csv('./classification/output/images.csv', header=None)\n",
    "image_data = pd.read_csv('./archive/images.csv')\n",
    "\n",
    "# clean and format classifications\n",
    "classifications.columns = ['image', 'class']\n",
    "classifications['image'] = classifications['image'].apply(lambda x: '.'.join(x.split('.')[:-1]))\n",
    "\n",
    "# clean and format image data\n",
    "image_data.sort_values(by=['image'], inplace=True)\n",
    "image_data.reset_index(inplace=True)\n",
    "image_data.drop(columns=['index', 'sender_id'], inplace=True)\n",
    "\n",
    "image_data.columns = ['image', 'type', 'kids']\n",
    "\n",
    "types = image_data['type']\n",
    "\n",
    "encoded = np.zeros((len(types), len(types.unique())))\n",
    "\n",
    "for idx in range(len(types)):\n",
    "    encoded[idx][list(types.unique()).index(types[idx])] = 1\n",
    "    \n",
    "image_data = pd.concat([image_data, pd.DataFrame(encoded)], axis=1)\n",
    "\n",
    "image_data.columns = np.concatenate((image_data.columns[:3], types.unique()))\n",
    "\n",
    "image_data.columns = [c.lower().replace('-', '_').replace(' ', '_') for c in image_data.columns]\n",
    "\n",
    "image_data.drop(columns=['type'], inplace=True)\n",
    "\n",
    "image_data['kids'] = image_data['kids'].apply(lambda x: int(x))"
   ]
  },
  {
   "cell_type": "code",
   "execution_count": null,
   "id": "b01a55c2",
   "metadata": {},
   "outputs": [],
   "source": [
    "# load images, takes about a minute\n",
    "\n",
    "image_paths = np.array([f'./archive/images_compressed/{i}' for i in os.listdir(images_path)])\n",
    "\n",
    "image_paths.shape\n",
    "\n",
    "tsr_img = torchvision.io.read_image(image_paths[0])\n",
    "\n",
    "loaded_images = []\n",
    "\n",
    "for path in image_paths:\n",
    "    try:\n",
    "        loaded_images.append(torchvision.io.read_image(path))\n",
    "    except:\n",
    "        continue"
   ]
  },
  {
   "cell_type": "code",
   "execution_count": null,
   "id": "0ff4bb2b",
   "metadata": {},
   "outputs": [],
   "source": [
    "def display_image(tsr_img):\n",
    "    plt.imshow(tsr_img.permute(1, 2, 0))"
   ]
  },
  {
   "cell_type": "code",
   "execution_count": null,
   "id": "3028bef0",
   "metadata": {},
   "outputs": [],
   "source": [
    "transform_seq = transforms.Compose([\n",
    "    transforms.Resize(size=(200, 200), antialias=True),\n",
    "    transforms.Normalize((0.5, 0.5, 0.5), (0.5, 0.5, 0.5))\n",
    "])"
   ]
  },
  {
   "cell_type": "code",
   "execution_count": null,
   "id": "f69fa3cc",
   "metadata": {},
   "outputs": [],
   "source": [
    "# t = transform_seq()\n",
    "\n",
    "# torch.Tensor(loaded_images[0], dtype=torch.float32)"
   ]
  },
  {
   "cell_type": "code",
   "execution_count": 20,
   "id": "a15c4f0f",
   "metadata": {},
   "outputs": [
    {
     "data": {
      "text/plain": [
       "False"
      ]
     },
     "execution_count": 20,
     "metadata": {},
     "output_type": "execute_result"
    }
   ],
   "source": [
    "# cuda0 = torch.device('cuda:0')\n",
    "\n",
    "torch.cuda.is_available()"
   ]
  },
  {
   "cell_type": "code",
   "execution_count": null,
   "id": "0e662a07",
   "metadata": {},
   "outputs": [],
   "source": []
  }
 ],
 "metadata": {
  "kernelspec": {
   "display_name": "Python 3 (ipykernel)",
   "language": "python",
   "name": "python3"
  },
  "language_info": {
   "codemirror_mode": {
    "name": "ipython",
    "version": 3
   },
   "file_extension": ".py",
   "mimetype": "text/x-python",
   "name": "python",
   "nbconvert_exporter": "python",
   "pygments_lexer": "ipython3",
   "version": "3.11.2"
  }
 },
 "nbformat": 4,
 "nbformat_minor": 5
}
