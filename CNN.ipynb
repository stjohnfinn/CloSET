{
 "cells": [
  {
   "cell_type": "markdown",
   "id": "9db8e4ee",
   "metadata": {},
   "source": [
    "# COGS 181 Neural Networks & Deep Learning Final Project"
   ]
  },
  {
   "cell_type": "markdown",
   "id": "be7e6efd",
   "metadata": {},
   "source": [
    "## Setup"
   ]
  },
  {
   "cell_type": "markdown",
   "id": "b79e337f",
   "metadata": {},
   "source": [
    "### Import the necessary packages"
   ]
  },
  {
   "cell_type": "code",
   "execution_count": 1,
   "id": "28f40ac9",
   "metadata": {},
   "outputs": [],
   "source": [
    "import pandas as pd\n",
    "import numpy as np\n",
    "import matplotlib.pyplot as plt\n",
    "import os\n",
    "import shutil\n",
    "import math\n",
    "import random\n",
    "\n",
    "from PIL import Image\n",
    "\n",
    "from sklearn.preprocessing import OneHotEncoder\n",
    "\n",
    "import torch\n",
    "import torch.nn as nn\n",
    "import torch.nn.functional as F\n",
    "import torch.optim as optim\n",
    "from torch.utils.data import Dataset, DataLoader\n",
    "\n",
    "import torchvision\n",
    "import torchvision.datasets as dset\n",
    "import torchvision.transforms as transforms\n",
    "import torchvision.utils as vutils\n",
    "from torchvision.io import read_image, ImageReadMode"
   ]
  },
  {
   "cell_type": "code",
   "execution_count": 2,
   "id": "a15c4f0f",
   "metadata": {},
   "outputs": [
    {
     "name": "stdout",
     "output_type": "stream",
     "text": [
      "Device: cuda:0\n"
     ]
    }
   ],
   "source": [
    "device = torch.device(\"cuda:0\" if torch.cuda.is_available() else \"cpu\")\n",
    "print('Device:', device)\n",
    "\n",
    "def imshow(img):\n",
    "    img = img / 2 + 0.5\n",
    "    npimg = img.numpy()\n",
    "    plt.imshow(np.transpose(npimg, (1, 2, 0)))\n",
    "    plt.show()"
   ]
  },
  {
   "cell_type": "markdown",
   "id": "643da1f3",
   "metadata": {},
   "source": [
    "### Configuration"
   ]
  },
  {
   "cell_type": "code",
   "execution_count": 45,
   "id": "fe9fad68",
   "metadata": {},
   "outputs": [
    {
     "name": "stdout",
     "output_type": "stream",
     "text": [
      "Random Seed:  360\n"
     ]
    }
   ],
   "source": [
    "# General Configuration\n",
    "\n",
    "batch_size = 4\n",
    "num_epochs = 5\n",
    "image_size = 32\n",
    "\n",
    "# CNN Configuration\n",
    "\n",
    "labels_path = 'data/labels/clothing.csv'\n",
    "img_dir = 'data/data_cnn'\n",
    "all_images_dir = 'classification/images'\n",
    "training_ratio = 0.85\n",
    "momentum = 0.9\n",
    "lr_cnn = 0.001\n",
    "\n",
    "# GAN Configuration\n",
    "\n",
    "dataroot = 'data/data_gan'\n",
    "workers = 0\n",
    "nc = 3\n",
    "nz = 100\n",
    "ngf = 64\n",
    "ndf = 64\n",
    "beta1 = 0.5\n",
    "ngpu = 1\n",
    "lr_gan = 0.0002\n",
    "\n",
    "# Random seed\n",
    "manualSeed = 360\n",
    "#manualSeed = random.randint(1, 10000) # use if you want new results\n",
    "print(\"Random Seed: \", manualSeed)\n",
    "random.seed(manualSeed)\n",
    "torch.manual_seed(manualSeed);"
   ]
  },
  {
   "cell_type": "markdown",
   "id": "fc357f69",
   "metadata": {},
   "source": [
    "### Image Transformations"
   ]
  },
  {
   "cell_type": "code",
   "execution_count": 36,
   "id": "c2d5c429",
   "metadata": {},
   "outputs": [],
   "source": [
    "transform_seq = transforms.Compose([\n",
    "    transforms.Resize(image_size, antialias=True),\n",
    "    transforms.CenterCrop(image_size),\n",
    "    transforms.ToTensor(),\n",
    "    transforms.Normalize((0.5, 0.5, 0.5), (0.5, 0.5, 0.5))\n",
    "])"
   ]
  },
  {
   "cell_type": "markdown",
   "id": "7ed7d49b",
   "metadata": {},
   "source": [
    "## Convolution Neural Network"
   ]
  },
  {
   "cell_type": "markdown",
   "id": "0d34b2c4",
   "metadata": {},
   "source": [
    "### Loading CNN Data"
   ]
  },
  {
   "cell_type": "markdown",
   "id": "1341dce4",
   "metadata": {},
   "source": [
    "#### Copy all classified images into `img_dir`\n",
    "\n",
    "Because I have given these images labels by hand, there are a few that have not been classified.\n",
    "\n",
    "After hand-classifying about 5000 of the images, I decided it would be better to finish the code implementation first before focusing on classification."
   ]
  },
  {
   "cell_type": "code",
   "execution_count": 7,
   "id": "625ddb12",
   "metadata": {},
   "outputs": [],
   "source": [
    "# remove all existing image copies from img_dir\n",
    "if os.path.exists(img_dir):\n",
    "    os.system(f'Remove-Item {img_dir}/*')\n",
    "else:\n",
    "    os.mkdir(img_dir)\n",
    "\n",
    "# copy all classified images into img_dir\n",
    "labels = pd.read_csv(labels_path, header=None)\n",
    "\n",
    "count = 0\n",
    "\n",
    "for img_filename in labels[0]:\n",
    "    count += 1\n",
    "    source = os.path.join(all_images_dir, img_filename)\n",
    "    destination = os.path.join(img_dir, img_filename)\n",
    "    \n",
    "    # instead of copying\n",
    "    img = Image.open(source).convert('RGB')\n",
    "    img.save(destination, 'jpeg')"
   ]
  },
  {
   "cell_type": "markdown",
   "id": "cb5398bf",
   "metadata": {},
   "source": [
    "In order to make the CNN incorporate the categorical features of the images, we will need to essentially encode them into the image.\n",
    "\n",
    "This will be done by padding the top of the image with a layer of that image's `clothing_characteristics`."
   ]
  },
  {
   "cell_type": "markdown",
   "id": "381bcf78",
   "metadata": {},
   "source": [
    "#### Creating custom dataset class"
   ]
  },
  {
   "cell_type": "code",
   "execution_count": 8,
   "id": "b46b9dca",
   "metadata": {},
   "outputs": [],
   "source": [
    "class CustomImageDataset(Dataset):\n",
    "    def __init__(self, annotations_file, img_dir, transform=None, target_transform=None):\n",
    "        self.img_labels = pd.read_csv(annotations_file, header=None)\n",
    "        self.img_dir = img_dir\n",
    "        self.transform = transform\n",
    "        self.target_transform = target_transform\n",
    "        \n",
    "    def __len__(self):\n",
    "        return len(self.img_labels)\n",
    "    \n",
    "    def __getitem__(self, idx):\n",
    "        img_path = os.path.join(self.img_dir, self.img_labels.iloc[idx,0])\n",
    "        image = read_image(img_path, mode=ImageReadMode.RGB)\n",
    "        image_name = img_path.split('.')[0]\n",
    "        label = self.img_labels.iloc[idx, 1]\n",
    "        if self.transform:\n",
    "            image = self.transform(image)\n",
    "        if self.target_transform:\n",
    "            label = self.target_transform(label)\n",
    "        return image, label"
   ]
  },
  {
   "cell_type": "markdown",
   "id": "2bc21273",
   "metadata": {},
   "source": [
    "#### Loading images into custom PyTorch dataset"
   ]
  },
  {
   "cell_type": "code",
   "execution_count": 9,
   "id": "7350dd73",
   "metadata": {},
   "outputs": [],
   "source": [
    "# Load the data into a custom dataset\n",
    "dataset_cnn = CustomImageDataset(labels_path, img_dir, transform_seq)\n",
    "\n",
    "# Split up the data into testing and training data\n",
    "dataset_size_cnn = dataset_cnn.__len__()\n",
    "training_size_cnn = math.floor(dataset_size_cnn * training_ratio)\n",
    "training_size_cnn = training_size_cnn - (training_size_cnn % batch_size)\n",
    "test_size_cnn = dataset_size_cnn - training_size_cnn\n",
    "\n",
    "training_data_cnn, test_data_cnn = torch.utils.data.random_split(dataset_cnn, [training_size_cnn, test_size_cnn])\n",
    "\n",
    "# Create dataloaders\n",
    "train_dataloader_cnn = DataLoader(training_data_cnn, batch_size=batch_size, shuffle=True, num_workers=workers)\n",
    "test_dataloader_cnn = DataLoader(test_data_cnn, batch_size=batch_size, shuffle=True, num_workers=workers)\n",
    "\n",
    "all_dataloader_cnn = DataLoader(dataset_cnn, batch_size=batch_size, shuffle=True, num_workers=workers)\n",
    "\n",
    "classes = ('not_fasionable', 'fashionable')"
   ]
  },
  {
   "cell_type": "code",
   "execution_count": 10,
   "id": "f22cc83b",
   "metadata": {},
   "outputs": [],
   "source": [
    "dataiter = iter(train_dataloader_cnn)"
   ]
  },
  {
   "cell_type": "code",
   "execution_count": 11,
   "id": "ed7e8a1f",
   "metadata": {},
   "outputs": [
    {
     "data": {
      "image/png": "[encoded data removed]",
      "text/plain": [
       "<Figure size 640x480 with 1 Axes>"
      ]
     },
     "metadata": {},
     "output_type": "display_data"
    },
    {
     "name": "stdout",
     "output_type": "stream",
     "text": [
      "not_fasionable not_fasionable fashionable not_fasionable\n"
     ]
    }
   ],
   "source": [
    "images, labels = next(dataiter)\n",
    "imshow(torchvision.utils.make_grid(images))\n",
    "print(' '.join(f'{classes[labels[j]]:5s}' for j in range(batch_size)))"
   ]
  },
  {
   "cell_type": "markdown",
   "id": "47f4e895",
   "metadata": {},
   "source": [
    "### CNN Setup"
   ]
  },
  {
   "cell_type": "code",
   "execution_count": 14,
   "id": "0afc2c00",
   "metadata": {},
   "outputs": [],
   "source": [
    "class CNN(nn.Module):\n",
    "    def __init__(self):\n",
    "        super().__init__()\n",
    "        self.conv1 = nn.Conv2d(3, 6, 5)\n",
    "        self.pool = nn.MaxPool2d(2, 2)\n",
    "        self.conv2 = nn.Conv2d(6, 16, 5)\n",
    "        self.fc1 = nn.Linear(16 * 5 * 5, 120)\n",
    "        self.fc2 = nn.Linear(120, 84)\n",
    "        self.fc3 = nn.Linear(84, 24)\n",
    "        self.fc4 = nn.Linear(24, 2)\n",
    "        \n",
    "    def forward(self, x):\n",
    "        x = self.pool(F.relu(self.conv1(x)))\n",
    "        x = self.pool(F.relu(self.conv2(x)))\n",
    "        x = torch.flatten(x, 1)\n",
    "        \n",
    "        # add features of data ??\n",
    "        x = F.relu(self.fc1(x))\n",
    "        x = F.relu(self.fc2(x))\n",
    "        x = F.relu(self.fc3(x))\n",
    "        x = F.relu(self.fc4(x))\n",
    "        return x"
   ]
  },
  {
   "cell_type": "code",
   "execution_count": 15,
   "id": "638134c9",
   "metadata": {},
   "outputs": [],
   "source": [
    "net = CNN()\n",
    "net = net.to(device)\n",
    "\n",
    "criterion_cnn = nn.CrossEntropyLoss()\n",
    "optimizer_cnn = optim.SGD(net.parameters(), lr=lr_cnn, momentum=momentum)"
   ]
  },
  {
   "cell_type": "code",
   "execution_count": 16,
   "id": "29878630",
   "metadata": {},
   "outputs": [
    {
     "name": "stdout",
     "output_type": "stream",
     "text": [
      "[1,   100] loss: 0.030\n",
      "[1,   200] loss: 0.023\n",
      "[1,   300] loss: 0.017\n",
      "[1,   400] loss: 0.017\n",
      "[1,   500] loss: 0.014\n",
      "[1,   600] loss: 0.014\n",
      "[1,   700] loss: 0.016\n",
      "[1,   800] loss: 0.016\n",
      "[1,   900] loss: 0.012\n",
      "[2,   100] loss: 0.015\n",
      "[2,   200] loss: 0.013\n",
      "[2,   300] loss: 0.012\n",
      "[2,   400] loss: 0.016\n",
      "[2,   500] loss: 0.011\n",
      "[2,   600] loss: 0.016\n",
      "[2,   700] loss: 0.011\n",
      "[2,   800] loss: 0.015\n",
      "[2,   900] loss: 0.016\n",
      "[3,   100] loss: 0.010\n",
      "[3,   200] loss: 0.016\n",
      "[3,   300] loss: 0.018\n",
      "[3,   400] loss: 0.016\n",
      "[3,   500] loss: 0.014\n",
      "[3,   600] loss: 0.012\n",
      "[3,   700] loss: 0.016\n",
      "[3,   800] loss: 0.014\n",
      "[3,   900] loss: 0.011\n",
      "[4,   100] loss: 0.016\n",
      "[4,   200] loss: 0.011\n",
      "[4,   300] loss: 0.013\n",
      "[4,   400] loss: 0.013\n",
      "[4,   500] loss: 0.012\n",
      "[4,   600] loss: 0.014\n",
      "[4,   700] loss: 0.016\n",
      "[4,   800] loss: 0.013\n",
      "[4,   900] loss: 0.015\n",
      "[5,   100] loss: 0.014\n",
      "[5,   200] loss: 0.012\n",
      "[5,   300] loss: 0.015\n",
      "[5,   400] loss: 0.015\n",
      "[5,   500] loss: 0.015\n",
      "[5,   600] loss: 0.013\n",
      "[5,   700] loss: 0.014\n",
      "[5,   800] loss: 0.013\n",
      "[5,   900] loss: 0.014\n",
      "Finished training!\n"
     ]
    }
   ],
   "source": [
    "for epoch in range(num_epochs):\n",
    "    \n",
    "    running_loss = 0.0\n",
    "    for i, data in enumerate(train_dataloader_cnn, 0):\n",
    "        \n",
    "        inputs, labels = data\n",
    "        \n",
    "        inputs = inputs.to(device)\n",
    "        \n",
    "        labels = labels.to(device)\n",
    "        \n",
    "        optimizer_cnn.zero_grad()\n",
    "        \n",
    "        outputs = net(inputs)\n",
    "        \n",
    "        loss = criterion_cnn(outputs, labels)\n",
    "        \n",
    "        loss.backward()\n",
    "        \n",
    "        optimizer_cnn.step()\n",
    "        \n",
    "        # print statistics\n",
    "        running_loss += loss.item()\n",
    "        if i % 100 == 99:    # print every 2000 mini-batches\n",
    "            print(f'[{epoch + 1}, {i + 1:5d}] loss: {running_loss / 2000:.3f}')\n",
    "            running_loss = 0.0\n",
    "            \n",
    "print('Finished training!')"
   ]
  },
  {
   "cell_type": "code",
   "execution_count": 17,
   "id": "14fe7fcb",
   "metadata": {},
   "outputs": [
    {
     "name": "stdout",
     "output_type": "stream",
     "text": [
      "Accuracy of the network on the 10000 test images: 92 %\n"
     ]
    }
   ],
   "source": [
    "correct = 0\n",
    "total = 0\n",
    "# since we're not training, we don't need to calculate the gradients for our outputs\n",
    "with torch.no_grad():\n",
    "    for data in test_dataloader_cnn:\n",
    "        images, labels = data\n",
    "        images = images.to(device)\n",
    "        labels = labels.to(device)\n",
    "        # calculate outputs by running images through the network\n",
    "        outputs = net(images)\n",
    "        # the class with the highest energy is what we choose as prediction\n",
    "        _, predicted = torch.max(outputs.data, 1)\n",
    "        total += labels.size(0)\n",
    "        correct += (predicted == labels).sum().item()\n",
    "\n",
    "print(f'Accuracy of the network on the 10000 test images: {100 * correct // total} %')"
   ]
  },
  {
   "cell_type": "markdown",
   "id": "ed08f068",
   "metadata": {},
   "source": [
    "## References\n",
    "\n",
    "[[1] Optimal ratio for data splitting](https://onlinelibrary.wiley.com/doi/full/10.1002/sam.11583)\n",
    "\n",
    "[[2] DCGAN Tutorial - PyTorch](https://pytorch.org/tutorials/beginner/dcgan_faces_tutorial.html)\n",
    "\n",
    "[[3] Implementing Generative Adversarial Networks (GANs) for Increasing a Convolutional Neural Network’s (CNN) Performance](https://12ft.io/proxy?q=https%3A%2F%2Ftowardsdatascience.com%2Fimplementing-generative-adversarial-networks-gans-for-increasing-a-convolutional-neural-networks-f871e17fe271)\n",
    "\n",
    "[[3] Convolutional Neural Networks](https://12ft.io/proxy?q=https%3A%2F%2Fmedium.com%2Fswlh%2Ftraining-deep-neural-networks-on-a-gpu-with-pytorch-11079d89805)"
   ]
  },
  {
   "cell_type": "markdown",
   "id": "242a769d",
   "metadata": {},
   "source": [
    "## Data\n",
    "\n",
    "[Fashionpedia](https://fashionpedia.github.io/home/Fashionpedia_download.html)\n",
    "\n",
    "[Clothing Dataset - Kaggle](https://www.kaggle.com/datasets/agrigorev/clothing-dataset-full)"
   ]
  }
 ],
 "metadata": {
  "kernelspec": {
   "display_name": "Python 3 (ipykernel)",
   "language": "python",
   "name": "python3"
  },
  "language_info": {
   "codemirror_mode": {
    "name": "ipython",
    "version": 3
   },
   "file_extension": ".py",
   "mimetype": "text/x-python",
   "name": "python",
   "nbconvert_exporter": "python",
   "pygments_lexer": "ipython3",
   "version": "3.11.2"
  }
 },
 "nbformat": 4,
 "nbformat_minor": 5
}
